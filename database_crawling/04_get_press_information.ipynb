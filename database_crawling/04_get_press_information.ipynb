{
 "cells": [
  {
   "cell_type": "markdown",
   "metadata": {},
   "source": [
    "## **04. 언론사**"
   ]
  },
  {
   "cell_type": "code",
   "execution_count": 3,
   "metadata": {},
   "outputs": [],
   "source": [
    "import requests \n",
    "from bs4 import BeautifulSoup\n",
    "import time\n",
    "import selenium\n",
    "from selenium import webdriver\n",
    "from selenium.webdriver.chrome.service import Service as ChromeService\n",
    "from selenium.webdriver.chrome.options import Options\n",
    "from selenium.webdriver.common.by import By\n",
    "from selenium.webdriver.common.action_chains import ActionChains\n",
    "from selenium.webdriver.common.keys import Keys\n",
    "from selenium.webdriver.common.desired_capabilities import DesiredCapabilities\n",
    "from selenium.webdriver.support import expected_conditions\n",
    "from selenium.webdriver.support.wait import WebDriverWait\n",
    "from selenium.common.exceptions import NoSuchElementException\n",
    "import webdriver_manager\n",
    "from webdriver_manager.chrome import ChromeDriverManager\n",
    "import pprint\n",
    "import re\n",
    "import pandas as pd\n",
    "import urllib3\n",
    "urllib3.disable_warnings()"
   ]
  },
  {
   "cell_type": "code",
   "execution_count": 4,
   "metadata": {},
   "outputs": [],
   "source": [
    "service = ChromeService(executable_path=ChromeDriverManager().install())\n",
    "options = Options()\n",
    "options.add_argument(\"user-agent=Mozilla/5.0 (Windows NT 10.0; Win64; x64) AppleWebKit/537.36 (KHTML, like Gecko) Chrome/112.0.0.0 Safari/537.36\")\n",
    "driver = webdriver.Chrome(service=service, options=options)\n",
    "\n",
    "press = {'한겨레': '028', '경향신문': '032', '한국일보': '469', '동아일보': '020', '조선일보': '023', \n",
    "         '중앙일보': '025', '국민일보': '005', '문화일보': '021', '서울신문': '081', '세계일보': '022'} \n",
    "\n",
    "press_information = {}\n",
    "    \n",
    "for press_name, press_id in press.items():\n",
    "    url = f\"https://media.naver.com/press/{press_id}\"\n",
    "    driver.get(url)\n",
    "    element = driver.find_element(By.CSS_SELECTOR, \"body > div.press_wrap > div > section.press_content > header > div.press_hd_main > div\")\n",
    "    press_info = {}\n",
    "\n",
    "    press_info['name'] = press_name\n",
    "    \n",
    "    subscriber = element.find_element(By.CSS_SELECTOR, \"div.press_hd_info > div.press_hd_subscribe > span > em\").text\n",
    "    press_info['subscribers'] = int(re.sub(r'[^0-9]', '', subscriber))\n",
    "        \n",
    "    try:\n",
    "        channels = element.find_element(By.CSS_SELECTOR, \"div.press_profile > div > div > a > div.prd_left > div\")\n",
    "        channels = re.findall(\"\\d+\", channels.text)\n",
    "        press_info['channel'] = int(channels[0])\n",
    "        press_info['channels_subscribers'] = int(channels[1])\n",
    "    except:\n",
    "        press_info['channel'] = -1\n",
    "        press_info['channels_subscribers'] = -1\n",
    "        \n",
    "    press_information[press_id] = press_info\n",
    "\n",
    "driver.close()\n",
    "driver.quit()"
   ]
  },
  {
   "cell_type": "code",
   "execution_count": 5,
   "metadata": {},
   "outputs": [
    {
     "data": {
      "text/plain": [
       "{'name': '경향신문', 'subscribers': 400, 'channel': 2, 'channels_subscribers': 8}"
      ]
     },
     "execution_count": 5,
     "metadata": {},
     "output_type": "execute_result"
    }
   ],
   "source": [
    "press_information['032']"
   ]
  },
  {
   "cell_type": "code",
   "execution_count": 6,
   "metadata": {},
   "outputs": [
    {
     "data": {
      "text/html": [
       "<div>\n",
       "<style scoped>\n",
       "    .dataframe tbody tr th:only-of-type {\n",
       "        vertical-align: middle;\n",
       "    }\n",
       "\n",
       "    .dataframe tbody tr th {\n",
       "        vertical-align: top;\n",
       "    }\n",
       "\n",
       "    .dataframe thead th {\n",
       "        text-align: right;\n",
       "    }\n",
       "</style>\n",
       "<table border=\"1\" class=\"dataframe\">\n",
       "  <thead>\n",
       "    <tr style=\"text-align: right;\">\n",
       "      <th></th>\n",
       "      <th>press_id</th>\n",
       "      <th>press_name</th>\n",
       "      <th>naver_subscribers</th>\n",
       "      <th>channels</th>\n",
       "      <th>channels_subscribers</th>\n",
       "    </tr>\n",
       "  </thead>\n",
       "  <tbody>\n",
       "    <tr>\n",
       "      <th>0</th>\n",
       "      <td>028</td>\n",
       "      <td>한겨레</td>\n",
       "      <td>400</td>\n",
       "      <td>1</td>\n",
       "      <td>57</td>\n",
       "    </tr>\n",
       "    <tr>\n",
       "      <th>1</th>\n",
       "      <td>032</td>\n",
       "      <td>경향신문</td>\n",
       "      <td>400</td>\n",
       "      <td>2</td>\n",
       "      <td>8</td>\n",
       "    </tr>\n",
       "    <tr>\n",
       "      <th>2</th>\n",
       "      <td>469</td>\n",
       "      <td>한국일보</td>\n",
       "      <td>400</td>\n",
       "      <td>4</td>\n",
       "      <td>25</td>\n",
       "    </tr>\n",
       "    <tr>\n",
       "      <th>3</th>\n",
       "      <td>020</td>\n",
       "      <td>동아일보</td>\n",
       "      <td>400</td>\n",
       "      <td>-1</td>\n",
       "      <td>-1</td>\n",
       "    </tr>\n",
       "    <tr>\n",
       "      <th>4</th>\n",
       "      <td>023</td>\n",
       "      <td>조선일보</td>\n",
       "      <td>500</td>\n",
       "      <td>-1</td>\n",
       "      <td>-1</td>\n",
       "    </tr>\n",
       "  </tbody>\n",
       "</table>\n",
       "</div>"
      ],
      "text/plain": [
       "  press_id press_name naver_subscribers channels channels_subscribers\n",
       "0      028        한겨레               400        1                   57\n",
       "1      032       경향신문               400        2                    8\n",
       "2      469       한국일보               400        4                   25\n",
       "3      020       동아일보               400       -1                   -1\n",
       "4      023       조선일보               500       -1                   -1"
      ]
     },
     "execution_count": 6,
     "metadata": {},
     "output_type": "execute_result"
    }
   ],
   "source": [
    "press_information = pd.DataFrame(press_information).T.reset_index()\n",
    "press_information.columns = ['press_id', 'press_name', 'naver_subscribers', 'channels', 'channels_subscribers']\n",
    "press_information.head()"
   ]
  },
  {
   "cell_type": "code",
   "execution_count": 7,
   "metadata": {},
   "outputs": [],
   "source": [
    "press_information.to_csv(\"press.csv\", index=False)"
   ]
  }
 ],
 "metadata": {
  "kernelspec": {
   "display_name": "web_crawling",
   "language": "python",
   "name": "python3"
  },
  "language_info": {
   "codemirror_mode": {
    "name": "ipython",
    "version": 3
   },
   "file_extension": ".py",
   "mimetype": "text/x-python",
   "name": "python",
   "nbconvert_exporter": "python",
   "pygments_lexer": "ipython3",
   "version": "3.8.16"
  }
 },
 "nbformat": 4,
 "nbformat_minor": 2
}
